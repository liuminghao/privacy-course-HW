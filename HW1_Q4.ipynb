{
 "cells": [
  {
   "cell_type": "markdown",
   "metadata": {},
   "source": [
    "# HW1 Q4\n",
    "Attack on noisy prefix queries"
   ]
  },
  {
   "cell_type": "code",
   "execution_count": 8,
   "metadata": {},
   "outputs": [
    {
     "name": "stdout",
     "output_type": "stream",
     "text": [
      "The autoreload extension is already loaded. To reload it, use:\n",
      "  %reload_ext autoreload\n"
     ]
    }
   ],
   "source": [
    "%load_ext autoreload\n",
    "%autoreload 2\n",
    "import numpy as np\n",
    "import scipy as sp\n",
    "from scipy.optimize import linprog\n",
    "from tqdm import trange"
   ]
  },
  {
   "cell_type": "code",
   "execution_count": 2,
   "metadata": {},
   "outputs": [],
   "source": [
    "seed = 1234\n",
    "np.random.seed(seed)"
   ]
  },
  {
   "cell_type": "markdown",
   "metadata": {},
   "source": [
    "### Secret initialization and release"
   ]
  },
  {
   "cell_type": "code",
   "execution_count": 177,
   "metadata": {},
   "outputs": [],
   "source": [
    "# generate n bits secret x\n",
    "def secret(n):\n",
    "    return np.round(np.random.rand(n))  # uniform random bits\n",
    "\n",
    "# release noisy answer a according to secret x\n",
    "def release(x):\n",
    "    a = np.ndarray(len(x))\n",
    "    cumsum = 0\n",
    "    for i in range(len(x)):\n",
    "        cumsum += x[i]\n",
    "        a[i] = cumsum + np.random.randint(2)\n",
    "    return a\n",
    "\n",
    "def release_2(x):\n",
    "    a = np.ndarray(len(x))\n",
    "    w = np.ndarray(len(x))\n",
    "    cumsum = 0\n",
    "    for i in range(len(x)):\n",
    "        cumsum += x[i]\n",
    "        a[i] = cumsum + np.random.randint(2)\n",
    "        # generate w\n",
    "        if np.random.randint(3)==0:\n",
    "            w[i] = 1-x[i]\n",
    "        else:\n",
    "            w[i] = x[i]\n",
    "    return a, w"
   ]
  },
  {
   "cell_type": "markdown",
   "metadata": {},
   "source": [
    "## Part (a)\n",
    "no prior information on the secret"
   ]
  },
  {
   "cell_type": "markdown",
   "metadata": {},
   "source": [
    "### LP"
   ]
  },
  {
   "cell_type": "code",
   "execution_count": 199,
   "metadata": {},
   "outputs": [],
   "source": [
    "# LP relaxation for part (a) reconstruction\n",
    "def algorithm_1(a):\n",
    "    n = len(a)\n",
    "    \n",
    "    \n",
    "    # objective, n entires for \\hat{s} and 1 entry for M\n",
    "    s = np.zeros(n)\n",
    "    s[-1] = 1\n",
    "    \n",
    "    # constraints\n",
    "    A_eq, b_eq = [], []\n",
    "    A_ub, b_ub = [], []\n",
    "    \n",
    "    if a[0] == 0:\n",
    "        row = np.zeros(n)\n",
    "        row[0] = 1\n",
    "        A_eq.append(row)\n",
    "        b_eq.append(0)\n",
    "        \n",
    "    for i in range(1, n):\n",
    "        if a[i] - a[i-1] == 2:  # we know Z_i=1, Z_{i-1}=0\n",
    "            row = np.zeros(n)\n",
    "            row[i] = 1\n",
    "            A_eq.append(row)\n",
    "            b_eq.append(1)\n",
    "            \n",
    "            row = np.zeros(n)\n",
    "            row[:i+1] = 1\n",
    "            A_eq.append(row)\n",
    "            b_eq.append(a[i]-1)\n",
    "            \n",
    "        elif a[i-1] - a[i] == 1:  # we know Z_{i-1}=1, Z_i=0\n",
    "            row = np.zeros(n)\n",
    "            row[i] = 1\n",
    "            A_eq.append(row)\n",
    "            b_eq.append(0)\n",
    "            \n",
    "            row = np.zeros(n)\n",
    "            row[:i] = 1\n",
    "            A_eq.append(row)\n",
    "            b_eq.append(a[i-1]-1)\n",
    "        \n",
    "        else:\n",
    "            \n",
    "            # sum_j^i s_j <= a_i\n",
    "            row = np.zeros(n)\n",
    "            row[:i+1] = 1\n",
    "            A_ub.append(row)\n",
    "            b_ub.append(a[i])\n",
    "        \n",
    "            # a_i-1 <= sum_j^i s_j\n",
    "            row = np.zeros(n)\n",
    "            row[:i+1] = -1\n",
    "            A_ub.append(row)\n",
    "            b_ub.append(1-a[i])\n",
    "\n",
    "    result = sp.optimize.linprog(s, \n",
    "                                 A_ub=A_ub, b_ub=b_ub, \n",
    "                                 A_eq=A_eq, b_eq=b_eq,\n",
    "                                 bounds=(0, 1), method='highs',\n",
    "                                 options={'primal_feasibility_tolerance': 1e-3,\n",
    "                                          'dual_feasibility_tolerance': 1e-3,\n",
    "                                          'ipm_optimality_tolerance': 1e-3})\n",
    "    \n",
    "    x = np.round(result.x[:n])\n",
    "    \n",
    "    return x, result"
   ]
  },
  {
   "cell_type": "code",
   "execution_count": 102,
   "metadata": {},
   "outputs": [],
   "source": [
    "def part_a(n, k=20):\n",
    "    accs = []\n",
    "    for _ in trange(k):\n",
    "        # generate secret, release query answers\n",
    "        x = secret(n)\n",
    "        a = release(x)\n",
    "\n",
    "        # solve\n",
    "        s, _ = algorithm_1(a)\n",
    "\n",
    "        # evaluate\n",
    "        acc = 1 - np.linalg.norm(x-s, ord=1) / n\n",
    "        accs.append(acc)\n",
    "    \n",
    "    print(f'For n={n}, accuracy mean = {np.mean(accs)*100:.2f}%, std = {np.std(accs)}')\n",
    "    return accs"
   ]
  },
  {
   "cell_type": "code",
   "execution_count": 103,
   "metadata": {},
   "outputs": [],
   "source": [
    "ns = [100, 500, 1000, 5000]"
   ]
  },
  {
   "cell_type": "code",
   "execution_count": 104,
   "metadata": {
    "scrolled": false
   },
   "outputs": [
    {
     "name": "stderr",
     "output_type": "stream",
     "text": [
      "100%|█████████████████████████████████████████████████████████████████████████████████| 20/20 [00:00<00:00, 168.52it/s]\n",
      "  0%|                                                                                           | 0/20 [00:00<?, ?it/s]"
     ]
    },
    {
     "name": "stdout",
     "output_type": "stream",
     "text": [
      "For n=100, accuracy mean = 75.95%, std = 0.05920092904676412\n"
     ]
    },
    {
     "name": "stderr",
     "output_type": "stream",
     "text": [
      "100%|██████████████████████████████████████████████████████████████████████████████████| 20/20 [00:01<00:00, 10.87it/s]\n",
      "  0%|                                                                                           | 0/20 [00:00<?, ?it/s]"
     ]
    },
    {
     "name": "stdout",
     "output_type": "stream",
     "text": [
      "For n=500, accuracy mean = 75.52%, std = 0.016557777628655377\n"
     ]
    },
    {
     "name": "stderr",
     "output_type": "stream",
     "text": [
      "100%|██████████████████████████████████████████████████████████████████████████████████| 20/20 [00:07<00:00,  2.53it/s]\n",
      "  0%|                                                                                           | 0/20 [00:00<?, ?it/s]"
     ]
    },
    {
     "name": "stdout",
     "output_type": "stream",
     "text": [
      "For n=1000, accuracy mean = 75.85%, std = 0.016536248062967624\n"
     ]
    },
    {
     "name": "stderr",
     "output_type": "stream",
     "text": [
      "100%|██████████████████████████████████████████████████████████████████████████████████| 20/20 [06:51<00:00, 20.57s/it]"
     ]
    },
    {
     "name": "stdout",
     "output_type": "stream",
     "text": [
      "For n=5000, accuracy mean = 75.85%, std = 0.005978118433085779\n"
     ]
    },
    {
     "name": "stderr",
     "output_type": "stream",
     "text": [
      "\n"
     ]
    }
   ],
   "source": [
    "accs = []\n",
    "for n in ns:\n",
    "    accs.append(part_a(n, k=20))"
   ]
  },
  {
   "cell_type": "code",
   "execution_count": 109,
   "metadata": {},
   "outputs": [],
   "source": [
    "from matplotlib import pyplot as plt"
   ]
  },
  {
   "cell_type": "code",
   "execution_count": 126,
   "metadata": {},
   "outputs": [
    {
     "data": {
      "image/png": "[encoded data removed]",
      "text/plain": [
       "<Figure size 432x288 with 1 Axes>"
      ]
     },
     "metadata": {
      "needs_background": "light"
     },
     "output_type": "display_data"
    }
   ],
   "source": [
    "for i in range(4):\n",
    "    plt.errorbar(x=i, y=np.mean(accs[i]), yerr=np.std(accs[i]), fmt='.', label=f'n={ns[i]}', )\n",
    "plt.legend()\n",
    "plt.hlines(0.75, xmin=-0.1, xmax=3.1, linestyles='dashed', colors='black')\n",
    "plt.tick_params(\n",
    "    axis='x',          # changes apply to the x-axis\n",
    "    which='both',      # both major and minor ticks are affected\n",
    "    bottom=False,      # ticks along the bottom edge are off\n",
    "    top=False,         # ticks along the top edge are off\n",
    "    labelbottom=False) # labels along the bottom edge are off"
   ]
  },
  {
   "cell_type": "markdown",
   "metadata": {},
   "source": [
    "## Part (b)\n",
    "prior $\\mathbf{w}$"
   ]
  },
  {
   "cell_type": "code",
   "execution_count": 189,
   "metadata": {},
   "outputs": [],
   "source": [
    "# LP relaxation for part (b) reconstruction\n",
    "def algorithm_2(a, w):\n",
    "    n = len(a)\n",
    "    \n",
    "    \n",
    "    # objective, as close to w as possible\n",
    "    s = np.ones(n)\n",
    "    s[w==1] = -1\n",
    "    \n",
    "    # constraints\n",
    "    A_eq, b_eq = [], []\n",
    "    A_ub, b_ub = [], []\n",
    "    \n",
    "    if a[0] == 0:\n",
    "        row = np.zeros(n)\n",
    "        row[0] = 1\n",
    "        A_eq.append(row)\n",
    "        b_eq.append(0)\n",
    "        \n",
    "    for i in range(1, n):\n",
    "        if a[i] - a[i-1] == 2:  # we know Z_i=1, Z_{i-1}=0\n",
    "            row = np.zeros(n)\n",
    "            row[i] = 1\n",
    "            A_eq.append(row)\n",
    "            b_eq.append(1)\n",
    "            \n",
    "            row = np.zeros(n)\n",
    "            row[:i+1] = 1\n",
    "            A_eq.append(row)\n",
    "            b_eq.append(a[i]-1)\n",
    "            \n",
    "        elif a[i-1] - a[i] == 1:  # we know Z_{i-1}=1, Z_i=0\n",
    "            row = np.zeros(n)\n",
    "            row[i] = 1\n",
    "            A_eq.append(row)\n",
    "            b_eq.append(0)\n",
    "            \n",
    "            row = np.zeros(n)\n",
    "            row[:i] = 1\n",
    "            A_eq.append(row)\n",
    "            b_eq.append(a[i-1]-1)\n",
    "        \n",
    "        else:\n",
    "            \n",
    "            # sum_j^i s_j <= a_i\n",
    "            row = np.zeros(n)\n",
    "            row[:i+1] = 1\n",
    "            A_ub.append(row)\n",
    "            b_ub.append(a[i])\n",
    "        \n",
    "            # a_i-1 <= sum_j^i s_j\n",
    "            row = np.zeros(n)\n",
    "            row[:i+1] = -1\n",
    "            A_ub.append(row)\n",
    "            b_ub.append(1-a[i])\n",
    "\n",
    "    result = sp.optimize.linprog(s, \n",
    "                                 A_ub=A_ub, b_ub=b_ub, \n",
    "                                 A_eq=A_eq, b_eq=b_eq,\n",
    "                                 bounds=(0, 1), method='highs',\n",
    "                                 options={'primal_feasibility_tolerance': 1e-3,\n",
    "                                          'dual_feasibility_tolerance': 1e-3,\n",
    "                                          'ipm_optimality_tolerance': 1e-3})\n",
    "    \n",
    "    x = np.round(result.x[:n])\n",
    "    \n",
    "    return x, result"
   ]
  },
  {
   "cell_type": "code",
   "execution_count": 190,
   "metadata": {},
   "outputs": [],
   "source": [
    "def part_b(n, k=20):\n",
    "    accs = []\n",
    "    for _ in trange(k):\n",
    "        # generate secret, release query answers\n",
    "        x = secret(n)\n",
    "        a, w = release_2(x)\n",
    "\n",
    "        # solve\n",
    "        s, _ = algorithm_2(a, w)\n",
    "    \n",
    "        # evaluate\n",
    "        acc = 1 - np.linalg.norm(x-s, ord=1) / n\n",
    "        accs.append(acc)\n",
    "    \n",
    "    print(f'For n={n}, accuracy mean = {np.mean(accs)*100:.2f}%, std = {np.std(accs)}')\n",
    "    return accs"
   ]
  },
  {
   "cell_type": "code",
   "execution_count": 202,
   "metadata": {},
   "outputs": [
    {
     "name": "stderr",
     "output_type": "stream",
     "text": [
      "100%|█████████████████████████████████████████████████████████████████████████████████| 20/20 [00:00<00:00, 161.85it/s]\n",
      " 10%|████████▎                                                                          | 2/20 [00:00<00:01, 13.65it/s]"
     ]
    },
    {
     "name": "stdout",
     "output_type": "stream",
     "text": [
      "For n=100, accuracy mean = 82.70%, std = 0.050209560842532766\n"
     ]
    },
    {
     "name": "stderr",
     "output_type": "stream",
     "text": [
      "100%|██████████████████████████████████████████████████████████████████████████████████| 20/20 [00:01<00:00, 14.45it/s]\n",
      "  0%|                                                                                           | 0/20 [00:00<?, ?it/s]"
     ]
    },
    {
     "name": "stdout",
     "output_type": "stream",
     "text": [
      "For n=500, accuracy mean = 82.61%, std = 0.015355455056754232\n"
     ]
    },
    {
     "name": "stderr",
     "output_type": "stream",
     "text": [
      "100%|██████████████████████████████████████████████████████████████████████████████████| 20/20 [00:06<00:00,  3.28it/s]\n",
      "  0%|                                                                                           | 0/20 [00:00<?, ?it/s]"
     ]
    },
    {
     "name": "stdout",
     "output_type": "stream",
     "text": [
      "For n=1000, accuracy mean = 81.78%, std = 0.016624078921853074\n"
     ]
    },
    {
     "name": "stderr",
     "output_type": "stream",
     "text": [
      "100%|██████████████████████████████████████████████████████████████████████████████████| 20/20 [04:01<00:00, 12.10s/it]"
     ]
    },
    {
     "name": "stdout",
     "output_type": "stream",
     "text": [
      "For n=5000, accuracy mean = 82.20%, std = 0.005659284407060667\n"
     ]
    },
    {
     "name": "stderr",
     "output_type": "stream",
     "text": [
      "\n"
     ]
    }
   ],
   "source": [
    "accs_2 = []\n",
    "for n in ns:\n",
    "    accs_2.append(part_b(n, k=20))"
   ]
  },
  {
   "cell_type": "code",
   "execution_count": 203,
   "metadata": {},
   "outputs": [
    {
     "data": {
      "image/png": "[encoded data removed]",
      "text/plain": [
       "<Figure size 432x288 with 1 Axes>"
      ]
     },
     "metadata": {
      "needs_background": "light"
     },
     "output_type": "display_data"
    }
   ],
   "source": [
    "for i in range(4):\n",
    "    plt.errorbar(x=i, y=np.mean(accs_2[i]), yerr=np.std(accs_2[i]), fmt='.', label=f'n={ns[i]}', )\n",
    "plt.legend()\n",
    "plt.hlines(0.8, xmin=-0.1, xmax=3.1, linestyles='dashed', colors='black')\n",
    "plt.tick_params(\n",
    "    axis='x',          # changes apply to the x-axis\n",
    "    which='both',      # both major and minor ticks are affected\n",
    "    bottom=False,      # ticks along the bottom edge are off\n",
    "    top=False,         # ticks along the top edge are off\n",
    "    labelbottom=False) # labels along the bottom edge are off"
   ]
  },
  {
   "cell_type": "code",
   "execution_count": null,
   "metadata": {},
   "outputs": [],
   "source": []
  }
 ],
 "metadata": {
  "kernelspec": {
   "display_name": "Python 3",
   "language": "python",
   "name": "python3"
  },
  "language_info": {
   "codemirror_mode": {
    "name": "ipython",
    "version": 3
   },
   "file_extension": ".py",
   "mimetype": "text/x-python",
   "name": "python",
   "nbconvert_exporter": "python",
   "pygments_lexer": "ipython3",
   "version": "3.8.5"
  }
 },
 "nbformat": 4,
 "nbformat_minor": 4
}
