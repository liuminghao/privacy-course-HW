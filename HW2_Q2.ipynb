{
 "cells": [
  {
   "cell_type": "markdown",
   "metadata": {},
   "source": [
    "# HW2 Q2\n",
    "Report noisy max on median"
   ]
  },
  {
   "cell_type": "code",
   "execution_count": 40,
   "metadata": {},
   "outputs": [],
   "source": [
    "import numpy as np\n",
    "import scipy as sp\n",
    "from tqdm import trange\n",
    "import math"
   ]
  },
  {
   "cell_type": "code",
   "execution_count": 2,
   "metadata": {},
   "outputs": [],
   "source": [
    "seed = 1234\n",
    "np.random.seed(seed)"
   ]
  },
  {
   "cell_type": "code",
   "execution_count": 4,
   "metadata": {},
   "outputs": [],
   "source": [
    "ns = [50, 100, 500, 2000, 10000]"
   ]
  },
  {
   "cell_type": "code",
   "execution_count": 9,
   "metadata": {},
   "outputs": [],
   "source": [
    "def rank(y, x):\n",
    "    rk = 0\n",
    "    for _ in x:\n",
    "        if y > _:\n",
    "            rk += 1\n",
    "    return rk"
   ]
  },
  {
   "cell_type": "code",
   "execution_count": 156,
   "metadata": {},
   "outputs": [],
   "source": [
    "def RNM(x, eps, R):\n",
    "    x = np.sort(x)\n",
    "    ys = np.arange(R) + 1\n",
    "    scores = np.empty(R)\n",
    "    t = 0\n",
    "    k = 0\n",
    "    for i, y in enumerate(ys):\n",
    "        temp = 0\n",
    "        while t < len(x) and y > x[t]:\n",
    "            t += 1\n",
    "            if t > k:\n",
    "                temp += 2\n",
    "            else:\n",
    "                temp += 1\n",
    "        k = t\n",
    "        while k < len(x) and y == x[k]:\n",
    "            k += 1\n",
    "            temp += 1\n",
    "        if i == 0:\n",
    "            scores[i] = - len(x) + temp\n",
    "        else:\n",
    "            scores[i] = scores[i-1] + temp\n",
    "    scores = -np.absolute(scores)\n",
    "#     print(scores)\n",
    "    scores += np.random.exponential(2/eps, R)\n",
    "#     print(scores)\n",
    "    return np.argmax(scores) + 1"
   ]
  },
  {
   "cell_type": "code",
   "execution_count": 89,
   "metadata": {},
   "outputs": [],
   "source": [
    "eps = 0.1"
   ]
  },
  {
   "cell_type": "markdown",
   "metadata": {},
   "source": [
    "## Gaussian"
   ]
  },
  {
   "cell_type": "code",
   "execution_count": 173,
   "metadata": {},
   "outputs": [],
   "source": [
    "Rs = [100, 1000, 10000]"
   ]
  },
  {
   "cell_type": "code",
   "execution_count": 174,
   "metadata": {
    "scrolled": true
   },
   "outputs": [
    {
     "name": "stdout",
     "output_type": "stream",
     "text": [
      "n=50, R=100, avg err: 8.516, std:6.972, std dataset:6.534\n",
      "n=50, R=1000, avg err: 8.702, std:7.058, std dataset:6.625\n",
      "n=50, R=10000, avg err: 8.410, std:6.905, std dataset:6.443\n",
      "n=100, R=100, avg err: 9.992, std:9.068, std dataset:8.747\n",
      "n=100, R=1000, avg err: 9.828, std:9.517, std dataset:8.933\n",
      "n=100, R=10000, avg err: 9.768, std:9.967, std dataset:9.192\n",
      "n=500, R=100, avg err: 9.550, std:9.138, std dataset:8.656\n",
      "n=500, R=1000, avg err: 9.308, std:9.272, std dataset:8.726\n",
      "n=500, R=10000, avg err: 10.420, std:10.059, std dataset:9.558\n",
      "n=2000, R=100, avg err: 15.560, std:10.388, std dataset:8.964\n",
      "n=2000, R=1000, avg err: 9.192, std:8.876, std dataset:8.188\n",
      "n=2000, R=10000, avg err: 10.452, std:10.803, std dataset:10.331\n",
      "n=10000, R=100, avg err: 59.724, std:35.706, std dataset:20.014\n",
      "n=10000, R=1000, avg err: 10.662, std:9.475, std dataset:8.753\n",
      "n=10000, R=10000, avg err: 9.860, std:9.883, std dataset:9.364\n"
     ]
    }
   ],
   "source": [
    "for n in ns:\n",
    "    for R in Rs:\n",
    "        all_results = []\n",
    "        variances = []\n",
    "        for _ in range(50):\n",
    "            gau = np.random.normal(R/4, R/math.sqrt(10), n)  # numpy uses std as parameter\n",
    "            gau = np.around(gau)\n",
    "            results = []\n",
    "            for t in range(10):\n",
    "                result = abs(rank(RNM(gau, eps, R), gau) - n/2)\n",
    "                results.append(result)\n",
    "                all_results.append(result)\n",
    "            variances.append(np.var(results) )\n",
    "        avg_var = np.mean(variances)\n",
    "        print(f'n={n}, R={R}, avg err: {np.mean(all_results):.3f}, std:{np.std(all_results):.3f}, std dataset:{math.sqrt(avg_var):.3f}')"
   ]
  },
  {
   "cell_type": "markdown",
   "metadata": {},
   "source": [
    "## Poisson"
   ]
  },
  {
   "cell_type": "code",
   "execution_count": 190,
   "metadata": {},
   "outputs": [
    {
     "name": "stdout",
     "output_type": "stream",
     "text": [
      "n=50, R=100, avg err: 16.886, std:9.091, std dataset:8.554\n",
      "n=50, R=1000, avg err: 23.264, std:5.365, std dataset:5.184\n",
      "n=50, R=10000, avg err: 24.818, std:2.029, std dataset:1.933\n",
      "n=100, R=100, avg err: 14.530, std:15.065, std dataset:14.043\n",
      "n=100, R=1000, avg err: 36.416, std:19.510, std dataset:17.975\n",
      "n=100, R=10000, avg err: 48.168, std:8.802, std dataset:8.375\n",
      "n=500, R=100, avg err: 16.366, std:11.019, std dataset:9.932\n",
      "n=500, R=1000, avg err: 15.488, std:12.191, std dataset:10.720\n",
      "n=500, R=10000, avg err: 15.096, std:10.749, std dataset:9.851\n",
      "n=2000, R=100, avg err: 41.538, std:23.077, std dataset:13.383\n",
      "n=2000, R=1000, avg err: 42.932, std:26.510, std dataset:18.270\n",
      "n=2000, R=10000, avg err: 41.584, std:28.412, std dataset:17.751\n",
      "n=10000, R=100, avg err: 200.900, std:39.623, std dataset:0.000\n",
      "n=10000, R=1000, avg err: 199.920, std:58.388, std dataset:0.000\n",
      "n=10000, R=10000, avg err: 185.160, std:49.589, std dataset:0.000\n"
     ]
    }
   ],
   "source": [
    "for n in ns:\n",
    "    for R in Rs:\n",
    "        all_results = []\n",
    "        variances = []\n",
    "        for _ in range(50):\n",
    "            poi = np.random.poisson(50, n)\n",
    "            poi = np.around(poi)\n",
    "            results = []\n",
    "            for t in range(10):\n",
    "                result = abs(rank(RNM(poi, eps, R), poi) - n/2)\n",
    "                results.append(result)\n",
    "                all_results.append(result)\n",
    "            variances.append(np.var(results) )\n",
    "        avg_var = np.mean(variances)\n",
    "        print(f'n={n}, R={R}, avg err: {np.mean(all_results):.3f}, std:{np.std(all_results):.3f}, std dataset:{math.sqrt(avg_var):.3f}')"
   ]
  },
  {
   "cell_type": "markdown",
   "metadata": {},
   "source": [
    "## Bimodal"
   ]
  },
  {
   "cell_type": "code",
   "execution_count": 176,
   "metadata": {},
   "outputs": [],
   "source": [
    "R = 1000\n",
    "ks = [10, 100, 200]"
   ]
  },
  {
   "cell_type": "code",
   "execution_count": 188,
   "metadata": {},
   "outputs": [
    {
     "name": "stdout",
     "output_type": "stream",
     "text": [
      "n=50, k=10, avg err: 9.042, std:10.154, std dataset:9.308\n",
      "n=50, k=100, avg err: 2.500, std:1.792, std dataset:0.000\n",
      "n=50, k=200, avg err: 2.180, std:2.463, std dataset:0.000\n",
      "n=100, k=10, avg err: 5.444, std:9.082, std dataset:8.388\n",
      "n=100, k=100, avg err: 3.680, std:2.517, std dataset:0.000\n",
      "n=100, k=200, avg err: 3.680, std:3.289, std dataset:0.000\n",
      "n=500, k=10, avg err: 8.600, std:6.318, std dataset:0.000\n",
      "n=500, k=100, avg err: 9.360, std:8.246, std dataset:0.000\n",
      "n=500, k=200, avg err: 8.040, std:6.876, std dataset:0.000\n",
      "n=2000, k=10, avg err: 18.000, std:13.212, std dataset:0.000\n",
      "n=2000, k=100, avg err: 16.460, std:11.084, std dataset:0.000\n",
      "n=2000, k=200, avg err: 20.160, std:11.656, std dataset:0.000\n",
      "n=10000, k=10, avg err: 32.820, std:25.840, std dataset:0.000\n",
      "n=10000, k=100, avg err: 37.000, std:26.848, std dataset:0.000\n",
      "n=10000, k=200, avg err: 31.700, std:26.908, std dataset:0.000\n"
     ]
    }
   ],
   "source": [
    "for n in ns:\n",
    "    for k in ks:\n",
    "        all_results = []\n",
    "        variances = []\n",
    "        for _ in range(50):\n",
    "            raw = np.random.uniform(size=n)\n",
    "            x = np.empty(n)\n",
    "            x[raw<0.5] = R/2 - k\n",
    "            x[raw>0.5] = R/2 + k\n",
    "            x = np.around(x)\n",
    "            results = []\n",
    "            for t in range(10):\n",
    "                result = abs(rank(RNM(x, eps, R), x) - n/2)\n",
    "                results.append(result)\n",
    "                all_results.append(result)\n",
    "            variances.append(np.var(results) )\n",
    "        avg_var = np.mean(variances)\n",
    "        print(f'n={n}, k={k}, avg err: {np.mean(all_results):.3f}, std:{np.std(all_results):.3f}, std dataset:{math.sqrt(avg_var):.3f}')"
   ]
  },
  {
   "cell_type": "code",
   "execution_count": null,
   "metadata": {},
   "outputs": [],
   "source": []
  }
 ],
 "metadata": {
  "kernelspec": {
   "display_name": "Python 3",
   "language": "python",
   "name": "python3"
  },
  "language_info": {
   "codemirror_mode": {
    "name": "ipython",
    "version": 3
   },
   "file_extension": ".py",
   "mimetype": "text/x-python",
   "name": "python",
   "nbconvert_exporter": "python",
   "pygments_lexer": "ipython3",
   "version": "3.8.5"
  }
 },
 "nbformat": 4,
 "nbformat_minor": 4
}
